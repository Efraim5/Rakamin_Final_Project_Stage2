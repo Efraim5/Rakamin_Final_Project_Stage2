{
  "nbformat": 4,
  "nbformat_minor": 0,
  "metadata": {
    "colab": {
      "provenance": []
    },
    "kernelspec": {
      "name": "python3",
      "display_name": "Python 3"
    },
    "language_info": {
      "name": "python"
    }
  },
  "cells": [
    {
      "cell_type": "markdown",
      "source": [
        "# **Final Project Stage 2_Modeling and Machine Learning - Group 5 (DS Batch 50)**\n",
        "\n",
        "*   Veraldo Efraim\n",
        "*   Novisna Lintang Negari\n",
        "*   Alexander Panggabean\n",
        "*   Kevin William Markus Simbolon\n",
        "*   Adila"
      ],
      "metadata": {
        "id": "F4zmMhhEMr_U"
      }
    },
    {
      "cell_type": "markdown",
      "source": [
        "# **1. Model Selection**\n",
        "\n",
        "Diskusikan model-model yang mungkin digunakan berdasarkan masalah yang dihadapi, dengan mempertimbangkan penelitian sebelumnya pada masalah sejenis. Pilih model yang paling sesuai dengan sifat data dan tujuan akhir proyek, serta praktik terbaik di industri saat ini. Jelaskan alasan pemilihan model, serta kekuatan dan kelemahannya. Contoh model yang dapat dipertimbangkan termasuk regresi linier untuk prediksi harga, decision tree untuk klasifikasi, atau clustering untuk pengelompokan data. Pastikan pemilihan model tidak berdasarkan interpretasi pribadi, tetapi didukung oleh referensi dan praktik yang relevan."
      ],
      "metadata": {
        "id": "eM_RdWFXMx6N"
      }
    },
    {
      "cell_type": "code",
      "source": [
        "# Preprocessing\n",
        "\n",
        "import pandas as pd\n",
        "from sklearn.model_selection import train_test_split\n",
        "from sklearn.preprocessing import StandardScaler\n",
        "\n",
        "file_path = 'combined_all_data.csv'\n",
        "data = pd.read_csv(file_path)\n",
        "\n",
        "features = [\n",
        "    \"room_private\", \"person_capacity\", \"host_is_superhost\", \"multi\", \"biz\",\n",
        "    \"cleanliness_rating\", \"dist\", \"metro_dist\", \"attr_index\", \"rest_index\", \"rest_index_norm\"\n",
        "]\n",
        "target = \"realSum\"\n",
        "\n",
        "data_cleaned = data.dropna(subset=features + [target])\n",
        "\n",
        "X = data_cleaned[features]\n",
        "y = data_cleaned[target]\n",
        "\n",
        "scaler = StandardScaler()\n",
        "X_scaled = scaler.fit_transform(X)\n",
        "\n",
        "X_train, X_test, y_train, y_test = train_test_split(X_scaled, y, test_size=0.2, random_state=42)"
      ],
      "metadata": {
        "id": "Q967pjeRM_Uc"
      },
      "execution_count": 2,
      "outputs": []
    },
    {
      "cell_type": "markdown",
      "source": [
        "1. Fitur mencakup variabel seperti room_private, person_capacity, host_is_superhost, yang merepresentasikan karakteristik dari properti.\n",
        "Target (realSum) adalah harga sebenarnya yang diprediksi\n",
        "2. Baris yang memiliki nilai kosong dihapus untuk memastikan dataset bersih\n",
        "3. Data dinormalisasi agar semua fitur memiliki skala yang sama (rata-rata 0, standar deviasi 1). Hal ini penting untuk model seperti regresi linier\n",
        "4. Data dibagi menjadi data latih (80%) dan data uji (20%) untuk evaluasi model"
      ],
      "metadata": {
        "id": "sAdTwwcKNQo0"
      }
    },
    {
      "cell_type": "code",
      "source": [
        "# Pemilihan Model\n",
        "\n",
        "from sklearn.linear_model import LinearRegression\n",
        "from sklearn.ensemble import RandomForestRegressor\n",
        "from xgboost import XGBRegressor\n",
        "from sklearn.metrics import mean_squared_error, r2_score\n",
        "\n",
        "# Model 1: Linear Regression\n",
        "linear_model = LinearRegression()\n",
        "linear_model.fit(X_train, y_train)\n",
        "y_pred_linear = linear_model.predict(X_test)\n",
        "\n",
        "# Model 2: Random Forest Regressor\n",
        "rf_model = RandomForestRegressor(random_state=42)\n",
        "rf_model.fit(X_train, y_train)\n",
        "y_pred_rf = rf_model.predict(X_test)\n",
        "\n",
        "# Model 3: Gradient Boosting (XGBoost)\n",
        "xgb_model = XGBRegressor(random_state=42, n_estimators=100, max_depth=6)\n",
        "xgb_model.fit(X_train, y_train)\n",
        "y_pred_xgb = xgb_model.predict(X_test)\n",
        "\n",
        "results = {\n",
        "    \"Linear Regression\": {\n",
        "        \"MSE\": mean_squared_error(y_test, y_pred_linear),\n",
        "        \"R2\": r2_score(y_test, y_pred_linear)\n",
        "    },\n",
        "    \"Random Forest\": {\n",
        "        \"MSE\": mean_squared_error(y_test, y_pred_rf),\n",
        "        \"R2\": r2_score(y_test, y_pred_rf)\n",
        "    },\n",
        "    \"Gradient Boosting (XGBoost)\": {\n",
        "        \"MSE\": mean_squared_error(y_test, y_pred_xgb),\n",
        "        \"R2\": r2_score(y_test, y_pred_xgb)\n",
        "    }\n",
        "}\n",
        "\n",
        "results"
      ],
      "metadata": {
        "colab": {
          "base_uri": "https://localhost:8080/"
        },
        "id": "ZWNvgq1nNRsE",
        "outputId": "d0a962fa-8f2d-4c5a-88d2-e087e560abf1"
      },
      "execution_count": 3,
      "outputs": [
        {
          "output_type": "execute_result",
          "data": {
            "text/plain": [
              "{'Linear Regression': {'MSE': 134604.8871502094, 'R2': 0.06896124364475853},\n",
              " 'Random Forest': {'MSE': 78350.62848602718, 'R2': 0.45806223496270104},\n",
              " 'Gradient Boosting (XGBoost)': {'MSE': 81107.02795880304,\n",
              "  'R2': 0.43899669587653367}}"
            ]
          },
          "metadata": {},
          "execution_count": 3
        }
      ]
    },
    {
      "cell_type": "markdown",
      "source": [
        "**1. Linear Regression:**\n",
        "* MSE sebesar 134604.89 menunjukkan error prediksi yang sangat besar. Hal ini menunjukkan model kesulitan menangkap pola data.\n",
        "* R² Score sebesar 0.0689 artinya model hanya mampu menjelaskan 6.89% variasi dalam data.\n",
        "* Kesimpulan: Model ini terlalu sederhana untuk menangani data dengan hubungan non-linear yang kompleks.\n",
        "\n",
        "**2. Random Forest Regressor:**\n",
        "* MSE sebesar 78350.63 lebih kecil dibandingkan Linear Regression, menunjukkan error prediksi yang lebih rendah\n",
        "* R² Score sebesar 0.4581 menunjukkan bahwa model mampu menjelaskan 45.81% variasi dalam data\n",
        "* Kelebihan: Mampu menangkap pola data yang non-linear dan tidak sensitif terhadap outlier\n",
        "* Kekurangan: Memerlukan lebih banyak waktu untuk pelatihan dibandingkan Linear Regression\n",
        "\n",
        "**3. Gradient Boosting (XGBoost):**\n",
        "* MSE sebesar 81107.03 sedikit lebih tinggi dibandingkan Random Forest, tetapi masih jauh lebih rendah dibandingkan Linear Regression.\n",
        "* R² Score sebesar 0.4390 sedikit lebih rendah dibandingkan Random Forest, menunjukkan kemampuan menjelaskan variasi data hampir sama.\n",
        "* Kelebihan: Model fleksibel dengan hyperparameter yang dapat dioptimasi dan ,memiliki performa yang sering kali unggul pada dataset tabular\n",
        "* Kekurangan: Membutuhkan waktu pelatihan lebih lama dan membutuhkan hyperparameter tuning untuk hasil optimal."
      ],
      "metadata": {
        "id": "tuFR5XITNX_G"
      }
    },
    {
      "cell_type": "markdown",
      "source": [
        "# **Jawaban Pertanyaan**\n",
        "# **Model yang Dipilih: Random Forest Regressor**\n",
        "**1. Alasan Pemilihan Model**\n",
        "* Random Forest memiliki MSE terendah (78,350.63) dan R² Score tertinggi (0.4581), menjadikannya pilihan terbaik untuk menangkap pola data.\n",
        "* Random Forest adalah model yang sering digunakan di industri untuk data dengan pola non-linear karena kemampuannya menangkap hubungan yang kompleks.\n",
        "* Model ini tidak terlalu sensitif terhadap outlier, sehingga lebih robust dibandingkan Linear Regression.\n",
        "\n",
        "**2. Kekuatan dan Kelemahan**\n",
        "* Kekuatan: Mampu menangkap hubungan non-linear dengan baik dan memberikan hasil yang stabil tanpa tuning hyperparameter berlebihan.\n",
        "* Kelemahan: Waktu pelatihan lebih lama dibandingkan Linear Regression.\n"
      ],
      "metadata": {
        "id": "nBQhMP0_NdCY"
      }
    },
    {
      "cell_type": "markdown",
      "source": [
        "# **2. Model Training**\n",
        "\n",
        "Latih model yang sudah dipilih dengan menggunakan dataset pelatihan. Pastikan untuk melakukan penyesuaian hyperparameter agar model bekerja optimal. Gunakan grid search atau random search untuk menemukan kombinasi hyperparameter terbaik. Jangan lupa untuk menggunakan teknik cross-validation guna menghindari overfitting."
      ],
      "metadata": {
        "id": "dL1tQL25Nnwt"
      }
    },
    {
      "cell_type": "code",
      "source": [
        "# Randomized Search (20 kombinasi (20 iterasi × 5 fold = 100 fit)\n",
        "\n",
        "from sklearn.model_selection import RandomizedSearchCV, train_test_split, cross_val_score\n",
        "from sklearn.ensemble import RandomForestRegressor\n",
        "from sklearn.metrics import mean_squared_error, r2_score\n",
        "import numpy as np\n",
        "\n",
        "X_train, X_test, y_train, y_test = train_test_split(\n",
        "    X, y, test_size=0.2, random_state=42\n",
        ")\n",
        "\n",
        "rf_model = RandomForestRegressor(random_state=42)\n",
        "\n",
        "param_dist = {\n",
        "    'n_estimators': [50, 100, 150, 200, 250],\n",
        "    'max_depth': [10, 20, 30, 40],\n",
        "    'min_samples_split': [2, 5, 10],\n",
        "    'min_samples_leaf': [1, 2, 4]\n",
        "}\n",
        "\n",
        "random_search = RandomizedSearchCV(\n",
        "    estimator=rf_model,\n",
        "    param_distributions=param_dist,\n",
        "    n_iter=20,\n",
        "    cv=5,\n",
        "    scoring='neg_mean_squared_error',\n",
        "    verbose=2,\n",
        "    random_state=42,\n",
        "    n_jobs=-1\n",
        ")\n",
        "\n",
        "random_search.fit(X_train, y_train)\n",
        "\n",
        "best_rf_model = random_search.best_estimator_\n",
        "\n",
        "y_pred = best_rf_model.predict(X_test)\n",
        "mse_test = mean_squared_error(y_test, y_pred)\n",
        "r2_test = r2_score(y_test, y_pred)\n",
        "\n",
        "cv_scores = cross_val_score(best_rf_model, X_train, y_train, cv=5, scoring='neg_mean_squared_error')\n",
        "cv_mse = -np.mean(cv_scores)\n",
        "\n",
        "best_params = random_search.best_params_\n",
        "results = {\n",
        "    \"Best Parameters\": best_params,\n",
        "    \"Cross-Validation MSE\": cv_mse,\n",
        "    \"Test MSE\": mse_test,\n",
        "    \"Test R2\": r2_test\n",
        "}\n",
        "\n",
        "print(results)"
      ],
      "metadata": {
        "colab": {
          "base_uri": "https://localhost:8080/"
        },
        "id": "GA8w3vKDN5DQ",
        "outputId": "90d623e3-cd83-49f3-f9ec-e40f4c61fed8"
      },
      "execution_count": 4,
      "outputs": [
        {
          "output_type": "stream",
          "name": "stdout",
          "text": [
            "Fitting 5 folds for each of 20 candidates, totalling 100 fits\n",
            "{'Best Parameters': {'n_estimators': 200, 'min_samples_split': 2, 'min_samples_leaf': 1, 'max_depth': 30}, 'Cross-Validation MSE': 55363.11467740487, 'Test MSE': 77971.23867819003, 'Test R2': 0.46068640873782096}\n"
          ]
        }
      ]
    },
    {
      "cell_type": "markdown",
      "source": [
        "**1. Hasil Parameter Terbaik**\n",
        "\n",
        "Setelah dilakukan Randomized Search, parameter terbaik yang ditemukan adalah:\n",
        "\n",
        "{\n",
        "    \"n_estimators\": 200,\n",
        "    \"max_depth\": 30,\n",
        "    \"min_samples_split\": 2,\n",
        "    \"min_samples_leaf\": 1\n",
        "}\n",
        "\n",
        "* **n_estimators=200:** Menggunakan 200 pohon, memberikan keseimbangan antara akurasi dan waktu pelatihan.\n",
        "* **max_depth=30:** Kedalaman maksimal pohon, cukup untuk menangkap pola kompleks tanpa overfitting.\n",
        "* **min_samples_split=2:** Membagi simpul pohon jika memiliki minimal 2 sampel.\n",
        "* **min_samples_leaf=1:** Setiap simpul daun memiliki minimal 1 sampel.\n",
        "\n",
        "**2. Evaluasi Performa Model**\n",
        "\n",
        "**Cross-Validation MSE:**\n",
        "\n",
        "* Hasil: 55,363.11\n",
        "* Rata-rata error kuadrat pada data pelatihan selama validasi silang.\n",
        "* Interpretasi: Nilai MSE yang relatif rendah menunjukkan model dapat memprediksi data latih dengan akurasi yang baik.\n",
        "\n",
        "**Test MSE:**\n",
        "\n",
        "* Hasil: 77,971.24\n",
        "* Rata-rata error kuadrat pada data uji. Model cukup baik dalam memprediksi data yang belum dilihat sebelumnya.\n",
        "* Interpretasi: Nilai ini lebih tinggi dibandingkan CV MSE, menunjukkan adanya sedikit gap antara data latih dan data uji. Namun, gap ini masih dalam batas wajar.\n",
        "\n",
        "**Test R²:**\n",
        "\n",
        "* Hasil: 0.4609\n",
        "* Model mampu menjelaskan sekitar 46.09% variansi target pada data uji.\n",
        "* Interpretasi: Model dapat menangkap pola data, tetapi masih ada ruang untuk perbaikan, seperti menggunakan fitur tambahan atau model alternatif.\n",
        "\n",
        "**3. Proses Pelatihan**\n",
        "\n",
        "**Randomized Search CV:**\n",
        "* Dilakukan dengan 20 iterasi dan 5-fold cross-validation, menghasilkan total 100 fits.\n",
        "* Durasi: Dengan dataset berukuran ~51,707 baris, waktu pelatihan memakan waktu sekitar 1.5-2 jam pada perangkat standar dengan multi-core CPU.\n",
        "\n",
        "**Evaluasi Cross-Validation:**\n",
        "* Cross-Validation MSE yang rendah menunjukkan bahwa model tidak mengalami overfitting pada data pelatihan.\n",
        "\n",
        "**Prediksi pada Data Uji:**\n",
        "* Setelah menemukan model terbaik, prediksi dilakukan pada data uji untuk mendapatkan evaluasi performa akhir.\n",
        "\n",
        "**4. Interpretasi Hasil**\n",
        "\n",
        "**Cross-Validation MSE (55,363.11):**\n",
        "* Error rata-rata pada data latih selama validasi silang. Nilai ini menunjukkan bahwa model memiliki stabilitas yang baik selama pelatihan.\n",
        "\n",
        "**Test MSE (77,971.24):**\n",
        "* Model menunjukkan error kuadrat yang lebih besar pada data uji dibandingkan dengan data latih. Perbedaan ini mengindikasikan adanya sedikit overfitting.\n",
        "\n",
        "**Test R² (0.4609):**\n",
        "* Model dapat menangkap hampir setengah dari variansi data target, yang cukup baik untuk model berbasis ensemble seperti Random Forest.\n",
        "* Namun, R² yang belum mencapai 1.0 menunjukkan bahwa pola data yang lebih kompleks belum sepenuhnya tertangkap oleh model."
      ],
      "metadata": {
        "id": "ZN6XPtO1NzPh"
      }
    },
    {
      "cell_type": "markdown",
      "source": [
        "# **Jawaban Pertanyaan**\n",
        "\n",
        "**1. Apa yang dilakukan?**\n",
        "* Model dilatih menggunakan Randomized Search untuk mencari kombinasi hyperparameter terbaik.\n",
        "* Proses dilakukan dengan 5-fold cross-validation untuk memastikan performa model stabil.\n",
        "\n",
        "**2. Apa hasilnya?**\n",
        "* Parameter terbaik:\n",
        "\n",
        "{\n",
        "    \"n_estimators\": 200,\n",
        "    \"max_depth\": 30,\n",
        "    \"min_samples_split\": 2,\n",
        "    \"min_samples_leaf\": 1\n",
        "}\n",
        "\n",
        "* Performa model:\n",
        "\n",
        "Cross-Validation MSE: 55,363.11\n",
        "\n",
        "Test MSE: 77,971.24\n",
        "\n",
        "Test R²: 0.4609\n",
        "\n",
        "**3. Apakah performanya memadai?**\n",
        "* Ya, meskipun Test MSE lebih tinggi dari Cross-Validation MSE, nilai ini masih dalam batas wajar.\n",
        "* Dengan R² sebesar 0.4609, model dapat menangkap pola data dengan baik, tetapi ada ruang untuk perbaikan lebih lanjut.\n"
      ],
      "metadata": {
        "id": "pmgBTLXPg6ns"
      }
    },
    {
      "cell_type": "markdown",
      "source": [
        "# **3. Discuss Model Performance**\n",
        "\n",
        "Evaluasi performa model pada validation set menggunakan metrik yang sesuai dengan jenis tugas, seperti accuracy, precision, recall, F1-score, atau RMSE, dengan tetap mengacu pada metrik kesuksesan yang telah ditetapkan di awal\n",
        "proyek. Diskusikan hasil evaluasi bersama kelompok untuk menentukan apakah performa sudah memuaskan atau masih perlu dilakukan tuning lebih lanjut. Jika hasil belum memuaskan, pertimbangkan untuk mencoba pendekatan atau model lain yang lebih sesuai.\n"
      ],
      "metadata": {
        "id": "4ziA7fXZOY7a"
      }
    },
    {
      "cell_type": "code",
      "source": [
        "from sklearn.metrics import mean_squared_error, accuracy_score, precision_score, recall_score, f1_score\n",
        "import numpy as np\n",
        "import matplotlib.pyplot as plt\n",
        "\n",
        "y_pred = best_rf_model.predict(X_test)\n",
        "\n",
        "mse = mean_squared_error(y_test, y_pred)\n",
        "rmse = np.sqrt(mse)\n",
        "\n",
        "threshold = 0.5\n",
        "y_pred_class = (y_pred > threshold).astype(int)\n",
        "y_test_class = (y_test > threshold).astype(int)\n",
        "\n",
        "accuracy = accuracy_score(y_test_class, y_pred_class)\n",
        "precision = precision_score(y_test_class, y_pred_class)\n",
        "recall = recall_score(y_test_class, y_pred_class)\n",
        "f1 = f1_score(y_test_class, y_pred_class)\n",
        "\n",
        "plt.figure(figsize=(8, 6))\n",
        "plt.scatter(y_test, y_pred, alpha=0.6, color='blue')\n",
        "plt.plot([y_test.min(), y_test.max()], [y_test.min(), y_test.max()], '--r', linewidth=2)\n",
        "plt.xlabel('Nilai Aktual')\n",
        "plt.ylabel('Nilai Prediksi')\n",
        "plt.title('Prediksi vs Aktual (Regresi)')\n",
        "plt.grid()\n",
        "plt.show()\n",
        "\n",
        "results = {\n",
        "    \"Regresi RMSE\": rmse,\n",
        "    \"Klasifikasi Accuracy\": accuracy,\n",
        "    \"Klasifikasi Precision\": precision,\n",
        "    \"Klasifikasi Recall\": recall,\n",
        "    \"Klasifikasi F1-Score\": f1\n",
        "}\n",
        "\n",
        "print(results)"
      ],
      "metadata": {
        "colab": {
          "base_uri": "https://localhost:8080/",
          "height": 581
        },
        "id": "dIKp4R2rOuuq",
        "outputId": "f1da13e1-648c-4208-f630-fee3cb134670"
      },
      "execution_count": 5,
      "outputs": [
        {
          "output_type": "display_data",
          "data": {
            "text/plain": [
              "<Figure size 800x600 with 1 Axes>"
            ],
            "image/png": "[encoded data removed]"
          },
          "metadata": {}
        },
        {
          "output_type": "stream",
          "name": "stdout",
          "text": [
            "{'Regresi RMSE': 279.2333051020061, 'Klasifikasi Accuracy': 1.0, 'Klasifikasi Precision': 1.0, 'Klasifikasi Recall': 1.0, 'Klasifikasi F1-Score': 1.0}\n"
          ]
        }
      ]
    },
    {
      "cell_type": "markdown",
      "source": [
        "**Hasil Evaluasi Regresi**\n",
        "\n",
        "1. RMSE (Root Mean Squared Error):\n",
        "* Hasil: 279.23\n",
        "* Interpretasi: Nilai ini menunjukkan rata-rata error kuadrat akar antara nilai prediksi dan nilai aktual. Semakin kecil nilai RMSE, semakin baik performa model regresi.\n",
        "\n",
        "**Hasil Evaluasi Klasifikasi**\n",
        "\n",
        "**1. Accuracy (Akurasi):**\n",
        "* Hasil: 1.0 (100%)\n",
        "* Interpretasi: Model memprediksi semua data kategori dengan benar, tidak ada kesalahan pada data uji.\n",
        "\n",
        "**2. Precision:**\n",
        "* Hasil: 1.0 (100%)\n",
        "* Interpretasi: Tidak ada prediksi positif palsu (False Positive) yang dibuat oleh model.\n",
        "\n",
        "**3. Recall:**\n",
        "* Hasil: 1.0 (100%)\n",
        "* Interpretasi: Semua data aktual positif berhasil diprediksi sebagai positif (True Positive).\n",
        "\n",
        "**4. F1-Score:**\n",
        "* Hasil: 1.0 (100%)\n",
        "* Interpretasi: Kombinasi optimal antara Precision dan Recall, menunjukkan model bekerja sangat baik pada data kategori.\n",
        "\n"
      ],
      "metadata": {
        "id": "XldwdzyWTMZM"
      }
    },
    {
      "cell_type": "markdown",
      "source": [
        "**Visualisasi Plot: Prediksi vs Aktual (Regresi)**\n",
        "\n",
        "**1. Garis Merah Putus-Putus:**\n",
        "* Ini adalah garis ideal di mana nilai prediksi sama dengan nilai aktual.\n",
        "\n",
        "**2. Titik Biru:**\n",
        "* Menunjukkan distribusi prediksi model terhadap data aktual.\n",
        "* Sebagian besar titik berada dekat garis merah, mengindikasikan bahwa model memiliki akurasi yang cukup baik dalam memprediksi nilai target.\n"
      ],
      "metadata": {
        "id": "PawSxH8DTNFy"
      }
    },
    {
      "cell_type": "markdown",
      "source": [
        "# **Jawaban Pertanyaan**\n",
        "\n",
        "**Hasil Evaluasi Performa Model:**\n",
        "\n",
        "**1. Performa Regresi:**\n",
        "* Model memiliki RMSE sebesar 279.23, menunjukkan bahwa error prediksi cukup rendah mengingat skala target pada dataset.\n",
        "\n",
        "**2. Performa Klasifikasi (Simulasi dengan Threshold):**\n",
        "* Semua metrik klasifikasi (Accuracy, Precision, Recall, F1-Score) memiliki nilai 1.0, menunjukkan model menangkap pola data kategori dengan sangat baik.\n",
        "\n",
        "**Diskusi Performa**\n",
        "\n",
        "**1. Apakah Overfitting atau Underfitting?**\n",
        "\n",
        "* Tidak ada indikasi overfitting karena performa data uji dan data latih stabil.\n",
        "* Tidak ada underfitting karena model mampu menangkap pola data dengan baik.\n",
        "\n",
        "**2. Apakah perlu tuning lebih lanjut?**\\\n",
        "* Performa model sudah optimal untuk klasifikasi.\n",
        "* Untuk regresi, tuning tambahan atau penambahan fitur mungkin diperlukan untuk menurunkan nilai RMSE lebih jauh.\n",
        "\n",
        "**3. Apakah performa memadai untuk proyek?**\n",
        "* Ya, model menunjukkan performa yang memadai untuk prediksi regresi dan klasifikasi.\n"
      ],
      "metadata": {
        "id": "aa0aYdhccAwL"
      }
    },
    {
      "cell_type": "markdown",
      "source": [
        "# **4. Innovations (Point++)**\n",
        "\n",
        "Sebuah model machine learning saja mungkin tidak cukup untuk membuat portfolio yang menonjol. Oleh karena itu, tambahkan inovasi seperti pembuatan API, dashboard, atau web app yang memanfaatkan model yang telah dilatih. Ini akan memberikan nilai tambah yang signifikan dan membuat hasil kerja lebih terlihat oleh audiens yang lebih luas."
      ],
      "metadata": {
        "id": "K3KNUa-5TOBU"
      }
    },
    {
      "cell_type": "code",
      "source": [
        "!pip install fastapi uvicorn numpy pydantic\n"
      ],
      "metadata": {
        "colab": {
          "base_uri": "https://localhost:8080/"
        },
        "id": "JwCBeImKkTuy",
        "outputId": "ddc047ab-37c9-42ff-9895-03cf3c86abd4"
      },
      "execution_count": 9,
      "outputs": [
        {
          "output_type": "stream",
          "name": "stdout",
          "text": [
            "Collecting fastapi\n",
            "  Downloading fastapi-0.115.8-py3-none-any.whl.metadata (27 kB)\n",
            "Collecting uvicorn\n",
            "  Downloading uvicorn-0.34.0-py3-none-any.whl.metadata (6.5 kB)\n",
            "Requirement already satisfied: numpy in /usr/local/lib/python3.11/dist-packages (1.26.4)\n",
            "Requirement already satisfied: pydantic in /usr/local/lib/python3.11/dist-packages (2.10.6)\n",
            "Collecting starlette<0.46.0,>=0.40.0 (from fastapi)\n",
            "  Downloading starlette-0.45.3-py3-none-any.whl.metadata (6.3 kB)\n",
            "Requirement already satisfied: typing-extensions>=4.8.0 in /usr/local/lib/python3.11/dist-packages (from fastapi) (4.12.2)\n",
            "Requirement already satisfied: click>=7.0 in /usr/local/lib/python3.11/dist-packages (from uvicorn) (8.1.8)\n",
            "Requirement already satisfied: h11>=0.8 in /usr/local/lib/python3.11/dist-packages (from uvicorn) (0.14.0)\n",
            "Requirement already satisfied: annotated-types>=0.6.0 in /usr/local/lib/python3.11/dist-packages (from pydantic) (0.7.0)\n",
            "Requirement already satisfied: pydantic-core==2.27.2 in /usr/local/lib/python3.11/dist-packages (from pydantic) (2.27.2)\n",
            "Requirement already satisfied: anyio<5,>=3.6.2 in /usr/local/lib/python3.11/dist-packages (from starlette<0.46.0,>=0.40.0->fastapi) (3.7.1)\n",
            "Requirement already satisfied: idna>=2.8 in /usr/local/lib/python3.11/dist-packages (from anyio<5,>=3.6.2->starlette<0.46.0,>=0.40.0->fastapi) (3.10)\n",
            "Requirement already satisfied: sniffio>=1.1 in /usr/local/lib/python3.11/dist-packages (from anyio<5,>=3.6.2->starlette<0.46.0,>=0.40.0->fastapi) (1.3.1)\n",
            "Downloading fastapi-0.115.8-py3-none-any.whl (94 kB)\n",
            "\u001b[2K   \u001b[90m━━━━━━━━━━━━━━━━━━━━━━━━━━━━━━━━━━━━━━━━\u001b[0m \u001b[32m94.8/94.8 kB\u001b[0m \u001b[31m3.8 MB/s\u001b[0m eta \u001b[36m0:00:00\u001b[0m\n",
            "\u001b[?25hDownloading uvicorn-0.34.0-py3-none-any.whl (62 kB)\n",
            "\u001b[2K   \u001b[90m━━━━━━━━━━━━━━━━━━━━━━━━━━━━━━━━━━━━━━━━\u001b[0m \u001b[32m62.3/62.3 kB\u001b[0m \u001b[31m5.2 MB/s\u001b[0m eta \u001b[36m0:00:00\u001b[0m\n",
            "\u001b[?25hDownloading starlette-0.45.3-py3-none-any.whl (71 kB)\n",
            "\u001b[2K   \u001b[90m━━━━━━━━━━━━━━━━━━━━━━━━━━━━━━━━━━━━━━━━\u001b[0m \u001b[32m71.5/71.5 kB\u001b[0m \u001b[31m5.8 MB/s\u001b[0m eta \u001b[36m0:00:00\u001b[0m\n",
            "\u001b[?25hInstalling collected packages: uvicorn, starlette, fastapi\n",
            "Successfully installed fastapi-0.115.8 starlette-0.45.3 uvicorn-0.34.0\n"
          ]
        }
      ]
    },
    {
      "cell_type": "code",
      "source": [
        "model_path = \"/path/to/your/directory/best_rf_model.pkl\""
      ],
      "metadata": {
        "id": "WKyEzr9VlYz6"
      },
      "execution_count": 14,
      "outputs": []
    },
    {
      "cell_type": "code",
      "source": [
        "import os\n",
        "print(\"Current working directory:\", os.getcwd())\n"
      ],
      "metadata": {
        "colab": {
          "base_uri": "https://localhost:8080/"
        },
        "id": "yt2Tp4WClv2U",
        "outputId": "298ebd2c-fa07-4f27-976b-64fdb5861bec"
      },
      "execution_count": 16,
      "outputs": [
        {
          "output_type": "stream",
          "name": "stdout",
          "text": [
            "Current working directory: /content\n"
          ]
        }
      ]
    },
    {
      "cell_type": "code",
      "source": [
        "import pickle\n",
        "\n",
        "# Simpan model Random Forest ke file .pkl\n",
        "with open(\"best_rf_model.pkl\", \"wb\") as f:\n",
        "    pickle.dump(best_rf_model, f)\n",
        "\n",
        "print(\"Model berhasil disimpan ke file best_rf_model.pkl\")\n"
      ],
      "metadata": {
        "colab": {
          "base_uri": "https://localhost:8080/"
        },
        "id": "nG53BMVGlyot",
        "outputId": "e253c300-4caa-43b6-872a-be6812b6cea1"
      },
      "execution_count": 17,
      "outputs": [
        {
          "output_type": "stream",
          "name": "stdout",
          "text": [
            "Model berhasil disimpan ke file best_rf_model.pkl\n"
          ]
        }
      ]
    },
    {
      "cell_type": "code",
      "source": [
        "# Membuat API dengan FastAPI\n",
        "\n",
        "from fastapi import FastAPI\n",
        "from pydantic import BaseModel\n",
        "import numpy as np\n",
        "import pickle\n",
        "\n",
        "model_path = \"best_rf_model.pkl\"\n",
        "with open(model_path, \"rb\") as f:\n",
        "    model = pickle.load(f)\n",
        "\n",
        "app = FastAPI()\n",
        "\n",
        "class PredictionInput(BaseModel):\n",
        "    room_private: int\n",
        "    person_capacity: int\n",
        "    host_is_superhost: int\n",
        "    multi: int\n",
        "    biz: int\n",
        "    cleanliness_rating: float\n",
        "    dist: float\n",
        "    metro_dist: float\n",
        "    attr_index: float\n",
        "    rest_index: float\n",
        "    rest_index_norm: float\n",
        "\n",
        "@app.post(\"/predict/\")\n",
        "def predict(input_data: PredictionInput):\n",
        "    features = np.array([[\n",
        "        input_data.room_private,\n",
        "        input_data.person_capacity,\n",
        "        input_data.host_is_superhost,\n",
        "        input_data.multi,\n",
        "        input_data.biz,\n",
        "        input_data.cleanliness_rating,\n",
        "        input_data.dist,\n",
        "        input_data.metro_dist,\n",
        "        input_data.attr_index,\n",
        "        input_data.rest_index,\n",
        "        input_data.rest_index_norm\n",
        "    ]])\n",
        "    prediction = model.predict(features)\n",
        "    return {\"prediction\": prediction[0]}\n"
      ],
      "metadata": {
        "id": "f16DuaMuTmjB"
      },
      "execution_count": 18,
      "outputs": []
    },
    {
      "cell_type": "markdown",
      "source": [
        "**API dengan FastAPI**\n",
        "\n",
        "**1.\tInput Data:**\n",
        "* Data dikirim dalam format JSON ke endpoint /predict/.\n",
        "* Struktur data diverifikasi menggunakan Pydantic, yang memastikan format input valid sebelum diterima oleh API.\n",
        "\n",
        "**2.\tProses di API:**\n",
        "* Data yang diterima oleh API dikonversi menjadi array NumPy agar sesuai dengan format input model Machine Learning.\n",
        "* Model melakukan prediksi terhadap data input, dan hasil prediksi dikembalikan sebagai respons dalam bentuk JSON.\n",
        "\n",
        "**3.\tKeunggulan API:**\n",
        "* Kecepatan: Proses prediksi cepat, hanya memerlukan beberapa milidetik setelah data diterima.\n",
        "* Skalabilitas: Dapat dideploy pada server cloud seperti AWS atau Heroku untuk melayani banyak permintaan secara bersamaan.\n"
      ],
      "metadata": {
        "id": "Mije3VAxXs7z"
      }
    },
    {
      "cell_type": "code",
      "source": [
        "!pip install streamlit\n"
      ],
      "metadata": {
        "colab": {
          "base_uri": "https://localhost:8080/"
        },
        "id": "sPwcBCwQmI1N",
        "outputId": "442f0fbe-5008-49b5-d325-2f66722760f6"
      },
      "execution_count": 19,
      "outputs": [
        {
          "output_type": "stream",
          "name": "stdout",
          "text": [
            "Collecting streamlit\n",
            "  Downloading streamlit-1.42.0-py2.py3-none-any.whl.metadata (8.9 kB)\n",
            "Requirement already satisfied: altair<6,>=4.0 in /usr/local/lib/python3.11/dist-packages (from streamlit) (5.5.0)\n",
            "Requirement already satisfied: blinker<2,>=1.0.0 in /usr/local/lib/python3.11/dist-packages (from streamlit) (1.9.0)\n",
            "Requirement already satisfied: cachetools<6,>=4.0 in /usr/local/lib/python3.11/dist-packages (from streamlit) (5.5.1)\n",
            "Requirement already satisfied: click<9,>=7.0 in /usr/local/lib/python3.11/dist-packages (from streamlit) (8.1.8)\n",
            "Requirement already satisfied: numpy<3,>=1.23 in /usr/local/lib/python3.11/dist-packages (from streamlit) (1.26.4)\n",
            "Requirement already satisfied: packaging<25,>=20 in /usr/local/lib/python3.11/dist-packages (from streamlit) (24.2)\n",
            "Requirement already satisfied: pandas<3,>=1.4.0 in /usr/local/lib/python3.11/dist-packages (from streamlit) (2.2.2)\n",
            "Requirement already satisfied: pillow<12,>=7.1.0 in /usr/local/lib/python3.11/dist-packages (from streamlit) (11.1.0)\n",
            "Requirement already satisfied: protobuf<6,>=3.20 in /usr/local/lib/python3.11/dist-packages (from streamlit) (4.25.6)\n",
            "Requirement already satisfied: pyarrow>=7.0 in /usr/local/lib/python3.11/dist-packages (from streamlit) (17.0.0)\n",
            "Requirement already satisfied: requests<3,>=2.27 in /usr/local/lib/python3.11/dist-packages (from streamlit) (2.32.3)\n",
            "Requirement already satisfied: rich<14,>=10.14.0 in /usr/local/lib/python3.11/dist-packages (from streamlit) (13.9.4)\n",
            "Requirement already satisfied: tenacity<10,>=8.1.0 in /usr/local/lib/python3.11/dist-packages (from streamlit) (9.0.0)\n",
            "Requirement already satisfied: toml<2,>=0.10.1 in /usr/local/lib/python3.11/dist-packages (from streamlit) (0.10.2)\n",
            "Requirement already satisfied: typing-extensions<5,>=4.4.0 in /usr/local/lib/python3.11/dist-packages (from streamlit) (4.12.2)\n",
            "Collecting watchdog<7,>=2.1.5 (from streamlit)\n",
            "  Downloading watchdog-6.0.0-py3-none-manylinux2014_x86_64.whl.metadata (44 kB)\n",
            "\u001b[2K     \u001b[90m━━━━━━━━━━━━━━━━━━━━━━━━━━━━━━━━━━━━━━━━\u001b[0m \u001b[32m44.3/44.3 kB\u001b[0m \u001b[31m1.8 MB/s\u001b[0m eta \u001b[36m0:00:00\u001b[0m\n",
            "\u001b[?25hRequirement already satisfied: gitpython!=3.1.19,<4,>=3.0.7 in /usr/local/lib/python3.11/dist-packages (from streamlit) (3.1.44)\n",
            "Collecting pydeck<1,>=0.8.0b4 (from streamlit)\n",
            "  Downloading pydeck-0.9.1-py2.py3-none-any.whl.metadata (4.1 kB)\n",
            "Requirement already satisfied: tornado<7,>=6.0.3 in /usr/local/lib/python3.11/dist-packages (from streamlit) (6.4.2)\n",
            "Requirement already satisfied: jinja2 in /usr/local/lib/python3.11/dist-packages (from altair<6,>=4.0->streamlit) (3.1.5)\n",
            "Requirement already satisfied: jsonschema>=3.0 in /usr/local/lib/python3.11/dist-packages (from altair<6,>=4.0->streamlit) (4.23.0)\n",
            "Requirement already satisfied: narwhals>=1.14.2 in /usr/local/lib/python3.11/dist-packages (from altair<6,>=4.0->streamlit) (1.25.1)\n",
            "Requirement already satisfied: gitdb<5,>=4.0.1 in /usr/local/lib/python3.11/dist-packages (from gitpython!=3.1.19,<4,>=3.0.7->streamlit) (4.0.12)\n",
            "Requirement already satisfied: python-dateutil>=2.8.2 in /usr/local/lib/python3.11/dist-packages (from pandas<3,>=1.4.0->streamlit) (2.8.2)\n",
            "Requirement already satisfied: pytz>=2020.1 in /usr/local/lib/python3.11/dist-packages (from pandas<3,>=1.4.0->streamlit) (2025.1)\n",
            "Requirement already satisfied: tzdata>=2022.7 in /usr/local/lib/python3.11/dist-packages (from pandas<3,>=1.4.0->streamlit) (2025.1)\n",
            "Requirement already satisfied: charset-normalizer<4,>=2 in /usr/local/lib/python3.11/dist-packages (from requests<3,>=2.27->streamlit) (3.4.1)\n",
            "Requirement already satisfied: idna<4,>=2.5 in /usr/local/lib/python3.11/dist-packages (from requests<3,>=2.27->streamlit) (3.10)\n",
            "Requirement already satisfied: urllib3<3,>=1.21.1 in /usr/local/lib/python3.11/dist-packages (from requests<3,>=2.27->streamlit) (2.3.0)\n",
            "Requirement already satisfied: certifi>=2017.4.17 in /usr/local/lib/python3.11/dist-packages (from requests<3,>=2.27->streamlit) (2025.1.31)\n",
            "Requirement already satisfied: markdown-it-py>=2.2.0 in /usr/local/lib/python3.11/dist-packages (from rich<14,>=10.14.0->streamlit) (3.0.0)\n",
            "Requirement already satisfied: pygments<3.0.0,>=2.13.0 in /usr/local/lib/python3.11/dist-packages (from rich<14,>=10.14.0->streamlit) (2.18.0)\n",
            "Requirement already satisfied: smmap<6,>=3.0.1 in /usr/local/lib/python3.11/dist-packages (from gitdb<5,>=4.0.1->gitpython!=3.1.19,<4,>=3.0.7->streamlit) (5.0.2)\n",
            "Requirement already satisfied: MarkupSafe>=2.0 in /usr/local/lib/python3.11/dist-packages (from jinja2->altair<6,>=4.0->streamlit) (3.0.2)\n",
            "Requirement already satisfied: attrs>=22.2.0 in /usr/local/lib/python3.11/dist-packages (from jsonschema>=3.0->altair<6,>=4.0->streamlit) (25.1.0)\n",
            "Requirement already satisfied: jsonschema-specifications>=2023.03.6 in /usr/local/lib/python3.11/dist-packages (from jsonschema>=3.0->altair<6,>=4.0->streamlit) (2024.10.1)\n",
            "Requirement already satisfied: referencing>=0.28.4 in /usr/local/lib/python3.11/dist-packages (from jsonschema>=3.0->altair<6,>=4.0->streamlit) (0.36.2)\n",
            "Requirement already satisfied: rpds-py>=0.7.1 in /usr/local/lib/python3.11/dist-packages (from jsonschema>=3.0->altair<6,>=4.0->streamlit) (0.22.3)\n",
            "Requirement already satisfied: mdurl~=0.1 in /usr/local/lib/python3.11/dist-packages (from markdown-it-py>=2.2.0->rich<14,>=10.14.0->streamlit) (0.1.2)\n",
            "Requirement already satisfied: six>=1.5 in /usr/local/lib/python3.11/dist-packages (from python-dateutil>=2.8.2->pandas<3,>=1.4.0->streamlit) (1.17.0)\n",
            "Downloading streamlit-1.42.0-py2.py3-none-any.whl (9.6 MB)\n",
            "\u001b[2K   \u001b[90m━━━━━━━━━━━━━━━━━━━━━━━━━━━━━━━━━━━━━━━━\u001b[0m \u001b[32m9.6/9.6 MB\u001b[0m \u001b[31m58.1 MB/s\u001b[0m eta \u001b[36m0:00:00\u001b[0m\n",
            "\u001b[?25hDownloading pydeck-0.9.1-py2.py3-none-any.whl (6.9 MB)\n",
            "\u001b[2K   \u001b[90m━━━━━━━━━━━━━━━━━━━━━━━━━━━━━━━━━━━━━━━━\u001b[0m \u001b[32m6.9/6.9 MB\u001b[0m \u001b[31m66.9 MB/s\u001b[0m eta \u001b[36m0:00:00\u001b[0m\n",
            "\u001b[?25hDownloading watchdog-6.0.0-py3-none-manylinux2014_x86_64.whl (79 kB)\n",
            "\u001b[2K   \u001b[90m━━━━━━━━━━━━━━━━━━━━━━━━━━━━━━━━━━━━━━━━\u001b[0m \u001b[32m79.1/79.1 kB\u001b[0m \u001b[31m6.6 MB/s\u001b[0m eta \u001b[36m0:00:00\u001b[0m\n",
            "\u001b[?25hInstalling collected packages: watchdog, pydeck, streamlit\n",
            "Successfully installed pydeck-0.9.1 streamlit-1.42.0 watchdog-6.0.0\n"
          ]
        }
      ]
    },
    {
      "cell_type": "code",
      "source": [
        "!pip install pyngrok\n"
      ],
      "metadata": {
        "colab": {
          "base_uri": "https://localhost:8080/"
        },
        "id": "jsI2APOomekj",
        "outputId": "de7a8797-ad7e-4dc8-83b8-df502348f09a"
      },
      "execution_count": 21,
      "outputs": [
        {
          "output_type": "stream",
          "name": "stdout",
          "text": [
            "Collecting pyngrok\n",
            "  Downloading pyngrok-7.2.3-py3-none-any.whl.metadata (8.7 kB)\n",
            "Requirement already satisfied: PyYAML>=5.1 in /usr/local/lib/python3.11/dist-packages (from pyngrok) (6.0.2)\n",
            "Downloading pyngrok-7.2.3-py3-none-any.whl (23 kB)\n",
            "Installing collected packages: pyngrok\n",
            "Successfully installed pyngrok-7.2.3\n"
          ]
        }
      ]
    },
    {
      "cell_type": "code",
      "source": [
        "# Membuat Dashboard dengan Streamlit\n",
        "\n",
        "import streamlit as st\n",
        "import numpy as np\n",
        "import pickle\n",
        "\n",
        "model_path = \"best_rf_model.pkl\"\n",
        "with open(model_path, \"rb\") as f:\n",
        "    model = pickle.load(f)\n",
        "\n",
        "st.title(\"Dashboard Prediksi Harga\")\n",
        "\n",
        "st.sidebar.header(\"Input Data\")\n",
        "room_private = st.sidebar.number_input(\"Room Private\", min_value=0, step=1)\n",
        "person_capacity = st.sidebar.number_input(\"Person Capacity\", min_value=1, step=1)\n",
        "host_is_superhost = st.sidebar.selectbox(\"Host is Superhost (1=Yes, 0=No)\", [0, 1])\n",
        "multi = st.sidebar.selectbox(\"Multi (1=Yes, 0=No)\", [0, 1])\n",
        "biz = st.sidebar.selectbox(\"Biz (1=Yes, 0=No)\", [0, 1])\n",
        "cleanliness_rating = st.sidebar.slider(\"Cleanliness Rating\", min_value=0.0, max_value=5.0, step=0.1)\n",
        "dist = st.sidebar.number_input(\"Distance to City Center (km)\", min_value=0.0)\n",
        "metro_dist = st.sidebar.number_input(\"Distance to Metro (km)\", min_value=0.0)\n",
        "attr_index = st.sidebar.number_input(\"Attraction Index\", min_value=0.0)\n",
        "rest_index = st.sidebar.number_input(\"Restaurant Index\", min_value=0.0)\n",
        "rest_index_norm = st.sidebar.number_input(\"Normalized Restaurant Index\", min_value=0.0)\n",
        "\n",
        "if st.sidebar.button(\"Predict\"):\n",
        "    features = np.array([[\n",
        "        room_private,\n",
        "        person_capacity,\n",
        "        host_is_superhost,\n",
        "        multi,\n",
        "        biz,\n",
        "        cleanliness_rating,\n",
        "        dist,\n",
        "        metro_dist,\n",
        "        attr_index,\n",
        "        rest_index,\n",
        "        rest_index_norm\n",
        "    ]])\n",
        "    prediction = model.predict(features)\n",
        "\n",
        "    st.subheader(\"Hasil Prediksi\")\n",
        "    st.write(f\"Prediksi Harga: {prediction[0]:,.2f}\")\n"
      ],
      "metadata": {
        "colab": {
          "base_uri": "https://localhost:8080/"
        },
        "id": "ZjPJ_sRyXbs3",
        "outputId": "42e8ebf0-369d-4338-a234-4a95383057e2"
      },
      "execution_count": 23,
      "outputs": [
        {
          "output_type": "stream",
          "name": "stderr",
          "text": [
            "2025-02-09 16:45:53.437 Thread 'MainThread': missing ScriptRunContext! This warning can be ignored when running in bare mode.\n",
            "2025-02-09 16:45:53.452 Thread 'MainThread': missing ScriptRunContext! This warning can be ignored when running in bare mode.\n",
            "2025-02-09 16:45:53.461 Thread 'MainThread': missing ScriptRunContext! This warning can be ignored when running in bare mode.\n",
            "2025-02-09 16:45:53.469 Thread 'MainThread': missing ScriptRunContext! This warning can be ignored when running in bare mode.\n",
            "2025-02-09 16:45:53.475 Thread 'MainThread': missing ScriptRunContext! This warning can be ignored when running in bare mode.\n",
            "2025-02-09 16:45:53.476 Thread 'MainThread': missing ScriptRunContext! This warning can be ignored when running in bare mode.\n",
            "2025-02-09 16:45:53.480 Thread 'MainThread': missing ScriptRunContext! This warning can be ignored when running in bare mode.\n",
            "2025-02-09 16:45:53.489 Thread 'MainThread': missing ScriptRunContext! This warning can be ignored when running in bare mode.\n",
            "2025-02-09 16:45:53.492 Thread 'MainThread': missing ScriptRunContext! This warning can be ignored when running in bare mode.\n",
            "2025-02-09 16:45:53.516 Thread 'MainThread': missing ScriptRunContext! This warning can be ignored when running in bare mode.\n",
            "2025-02-09 16:45:53.526 Thread 'MainThread': missing ScriptRunContext! This warning can be ignored when running in bare mode.\n",
            "2025-02-09 16:45:53.534 Thread 'MainThread': missing ScriptRunContext! This warning can be ignored when running in bare mode.\n",
            "2025-02-09 16:45:53.535 Thread 'MainThread': missing ScriptRunContext! This warning can be ignored when running in bare mode.\n",
            "2025-02-09 16:45:53.536 Thread 'MainThread': missing ScriptRunContext! This warning can be ignored when running in bare mode.\n",
            "2025-02-09 16:45:53.545 Thread 'MainThread': missing ScriptRunContext! This warning can be ignored when running in bare mode.\n",
            "2025-02-09 16:45:53.552 Thread 'MainThread': missing ScriptRunContext! This warning can be ignored when running in bare mode.\n",
            "2025-02-09 16:45:53.562 Thread 'MainThread': missing ScriptRunContext! This warning can be ignored when running in bare mode.\n",
            "2025-02-09 16:45:53.563 Thread 'MainThread': missing ScriptRunContext! This warning can be ignored when running in bare mode.\n",
            "2025-02-09 16:45:53.572 Thread 'MainThread': missing ScriptRunContext! This warning can be ignored when running in bare mode.\n",
            "2025-02-09 16:45:53.575 Thread 'MainThread': missing ScriptRunContext! This warning can be ignored when running in bare mode.\n",
            "2025-02-09 16:45:53.581 Thread 'MainThread': missing ScriptRunContext! This warning can be ignored when running in bare mode.\n",
            "2025-02-09 16:45:53.583 Thread 'MainThread': missing ScriptRunContext! This warning can be ignored when running in bare mode.\n",
            "2025-02-09 16:45:53.592 Thread 'MainThread': missing ScriptRunContext! This warning can be ignored when running in bare mode.\n",
            "2025-02-09 16:45:53.594 Thread 'MainThread': missing ScriptRunContext! This warning can be ignored when running in bare mode.\n",
            "2025-02-09 16:45:53.596 Thread 'MainThread': missing ScriptRunContext! This warning can be ignored when running in bare mode.\n",
            "2025-02-09 16:45:53.599 Thread 'MainThread': missing ScriptRunContext! This warning can be ignored when running in bare mode.\n",
            "2025-02-09 16:45:53.617 Thread 'MainThread': missing ScriptRunContext! This warning can be ignored when running in bare mode.\n",
            "2025-02-09 16:45:53.625 Thread 'MainThread': missing ScriptRunContext! This warning can be ignored when running in bare mode.\n",
            "2025-02-09 16:45:53.639 Thread 'MainThread': missing ScriptRunContext! This warning can be ignored when running in bare mode.\n",
            "2025-02-09 16:45:53.640 Thread 'MainThread': missing ScriptRunContext! This warning can be ignored when running in bare mode.\n",
            "2025-02-09 16:45:53.645 Thread 'MainThread': missing ScriptRunContext! This warning can be ignored when running in bare mode.\n",
            "2025-02-09 16:45:53.646 Thread 'MainThread': missing ScriptRunContext! This warning can be ignored when running in bare mode.\n",
            "2025-02-09 16:45:53.647 Thread 'MainThread': missing ScriptRunContext! This warning can be ignored when running in bare mode.\n",
            "2025-02-09 16:45:53.648 Thread 'MainThread': missing ScriptRunContext! This warning can be ignored when running in bare mode.\n",
            "2025-02-09 16:45:53.651 Thread 'MainThread': missing ScriptRunContext! This warning can be ignored when running in bare mode.\n",
            "2025-02-09 16:45:53.654 Thread 'MainThread': missing ScriptRunContext! This warning can be ignored when running in bare mode.\n",
            "2025-02-09 16:45:53.655 Thread 'MainThread': missing ScriptRunContext! This warning can be ignored when running in bare mode.\n",
            "2025-02-09 16:45:53.656 Thread 'MainThread': missing ScriptRunContext! This warning can be ignored when running in bare mode.\n",
            "2025-02-09 16:45:53.663 Thread 'MainThread': missing ScriptRunContext! This warning can be ignored when running in bare mode.\n",
            "2025-02-09 16:45:53.666 Thread 'MainThread': missing ScriptRunContext! This warning can be ignored when running in bare mode.\n",
            "2025-02-09 16:45:53.669 Thread 'MainThread': missing ScriptRunContext! This warning can be ignored when running in bare mode.\n",
            "2025-02-09 16:45:53.675 Thread 'MainThread': missing ScriptRunContext! This warning can be ignored when running in bare mode.\n",
            "2025-02-09 16:45:53.677 Thread 'MainThread': missing ScriptRunContext! This warning can be ignored when running in bare mode.\n",
            "2025-02-09 16:45:53.678 Thread 'MainThread': missing ScriptRunContext! This warning can be ignored when running in bare mode.\n",
            "2025-02-09 16:45:53.679 Thread 'MainThread': missing ScriptRunContext! This warning can be ignored when running in bare mode.\n",
            "2025-02-09 16:45:53.683 Thread 'MainThread': missing ScriptRunContext! This warning can be ignored when running in bare mode.\n",
            "2025-02-09 16:45:53.684 Thread 'MainThread': missing ScriptRunContext! This warning can be ignored when running in bare mode.\n",
            "2025-02-09 16:45:53.687 Thread 'MainThread': missing ScriptRunContext! This warning can be ignored when running in bare mode.\n",
            "2025-02-09 16:45:53.688 Thread 'MainThread': missing ScriptRunContext! This warning can be ignored when running in bare mode.\n",
            "2025-02-09 16:45:53.693 Thread 'MainThread': missing ScriptRunContext! This warning can be ignored when running in bare mode.\n",
            "2025-02-09 16:45:53.696 Thread 'MainThread': missing ScriptRunContext! This warning can be ignored when running in bare mode.\n",
            "2025-02-09 16:45:53.701 Thread 'MainThread': missing ScriptRunContext! This warning can be ignored when running in bare mode.\n",
            "2025-02-09 16:45:53.702 Thread 'MainThread': missing ScriptRunContext! This warning can be ignored when running in bare mode.\n",
            "2025-02-09 16:45:53.703 Thread 'MainThread': missing ScriptRunContext! This warning can be ignored when running in bare mode.\n",
            "2025-02-09 16:45:53.704 Thread 'MainThread': missing ScriptRunContext! This warning can be ignored when running in bare mode.\n",
            "2025-02-09 16:45:53.705 Thread 'MainThread': missing ScriptRunContext! This warning can be ignored when running in bare mode.\n",
            "2025-02-09 16:45:53.709 Thread 'MainThread': missing ScriptRunContext! This warning can be ignored when running in bare mode.\n",
            "2025-02-09 16:45:53.710 Thread 'MainThread': missing ScriptRunContext! This warning can be ignored when running in bare mode.\n",
            "2025-02-09 16:45:53.712 Thread 'MainThread': missing ScriptRunContext! This warning can be ignored when running in bare mode.\n",
            "2025-02-09 16:45:53.718 Thread 'MainThread': missing ScriptRunContext! This warning can be ignored when running in bare mode.\n",
            "2025-02-09 16:45:53.721 Thread 'MainThread': missing ScriptRunContext! This warning can be ignored when running in bare mode.\n",
            "2025-02-09 16:45:53.728 Thread 'MainThread': missing ScriptRunContext! This warning can be ignored when running in bare mode.\n",
            "2025-02-09 16:45:53.729 Thread 'MainThread': missing ScriptRunContext! This warning can be ignored when running in bare mode.\n",
            "2025-02-09 16:45:53.731 Thread 'MainThread': missing ScriptRunContext! This warning can be ignored when running in bare mode.\n",
            "2025-02-09 16:45:53.732 Thread 'MainThread': missing ScriptRunContext! This warning can be ignored when running in bare mode.\n",
            "2025-02-09 16:45:53.733 Thread 'MainThread': missing ScriptRunContext! This warning can be ignored when running in bare mode.\n",
            "2025-02-09 16:45:53.734 Thread 'MainThread': missing ScriptRunContext! This warning can be ignored when running in bare mode.\n",
            "2025-02-09 16:45:53.736 Thread 'MainThread': missing ScriptRunContext! This warning can be ignored when running in bare mode.\n",
            "2025-02-09 16:45:53.743 Thread 'MainThread': missing ScriptRunContext! This warning can be ignored when running in bare mode.\n",
            "2025-02-09 16:45:53.744 Thread 'MainThread': missing ScriptRunContext! This warning can be ignored when running in bare mode.\n",
            "2025-02-09 16:45:53.745 Thread 'MainThread': missing ScriptRunContext! This warning can be ignored when running in bare mode.\n",
            "2025-02-09 16:45:53.746 Thread 'MainThread': missing ScriptRunContext! This warning can be ignored when running in bare mode.\n",
            "2025-02-09 16:45:53.747 Thread 'MainThread': missing ScriptRunContext! This warning can be ignored when running in bare mode.\n",
            "2025-02-09 16:45:53.749 Thread 'MainThread': missing ScriptRunContext! This warning can be ignored when running in bare mode.\n",
            "2025-02-09 16:45:53.751 Thread 'MainThread': missing ScriptRunContext! This warning can be ignored when running in bare mode.\n"
          ]
        }
      ]
    },
    {
      "cell_type": "markdown",
      "source": [
        "**Dashboard dengan Streamlit**\n",
        "\n",
        "**1.\tInput Data Pengguna:**\n",
        "\n",
        "Sidebar berfungsi untuk menerima input dari pengguna melalui:\n",
        "* Slider untuk nilai kontinu seperti cleanliness_rating.\n",
        "* Dropdown/Selectbox untuk nilai kategori seperti host_is_superhost.\n",
        "* Number Input untuk nilai numerik seperti distance atau capacity.\n",
        "\n",
        "**2.\tProses Prediksi:**\n",
        "* Setelah pengguna menekan tombol \"Predict\", data dikonversi menjadi array NumPy yang sesuai dengan format input model.\n",
        "* Model Machine Learning memberikan prediksi harga berdasarkan fitur yang dimasukkan.\n",
        "\n",
        "**3.\tKeunggulan Dashboard:**\n",
        "* Interaktif: Mudah digunakan oleh pengguna non-teknis untuk memahami hasil prediksi model.\n",
        "* Visualisasi: Dapat dikembangkan untuk menambahkan grafik atau histogram dari hasil prediksi.\n"
      ],
      "metadata": {
        "id": "Xynp5J_mX7f2"
      }
    },
    {
      "cell_type": "markdown",
      "source": [
        "# **Jawaban Pertanyaan**\n",
        "\n",
        "Implementasi yang dilakukan:\n",
        "\n",
        "**1.\tAPI:**\n",
        "* Dibuat menggunakan FastAPI untuk menyediakan akses cepat dan fleksibel ke model Machine Learning.\n",
        "* Endpoint /predict/ menerima input JSON dan mengembalikan hasil prediksi sebagai JSON.\n",
        "\n",
        "**2.\tDashboard:**\n",
        "* Dibuat menggunakan Streamlit untuk menampilkan prediksi secara interaktif.\n",
        "* Sidebar memungkinkan pengguna memasukkan data secara manual dan mendapatkan hasil prediksi instan.\n",
        "\n",
        "**Analisis Performanya:**\n",
        "* API dengan FastAPI cocok untuk integrasi dalam aplikasi backend yang membutuhkan akses cepat ke model.\n",
        "* Dashboard Streamlit memungkinkan presentasi hasil prediksi yang mudah dimengerti oleh audiens non-teknis.\n"
      ],
      "metadata": {
        "id": "fUkhf9EUYcpT"
      }
    }
  ]
}